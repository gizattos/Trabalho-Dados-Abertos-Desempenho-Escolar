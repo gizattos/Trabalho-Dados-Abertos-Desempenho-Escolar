{
  "nbformat": 4,
  "nbformat_minor": 0,
  "metadata": {
    "kernelspec": {
      "display_name": "Python [conda env:root] *",
      "language": "python",
      "name": "conda-root-py"
    },
    "language_info": {
      "codemirror_mode": {
        "name": "ipython",
        "version": 3
      },
      "file_extension": ".py",
      "mimetype": "text/x-python",
      "name": "python",
      "nbconvert_exporter": "python",
      "pygments_lexer": "ipython3",
      "version": "3.7.6"
    },
    "colab": {
      "name": "trabalho01- Giovanni Riccardi Lourenzatto.ipynb",
      "provenance": [],
      "include_colab_link": true
    }
  },
  "cells": [
    {
      "cell_type": "markdown",
      "metadata": {
        "id": "view-in-github",
        "colab_type": "text"
      },
      "source": [
        "<a href=\"https://colab.research.google.com/github/gizattos/Trabalho-Dados-Abertos-Desempenho-Escolar/blob/master/trabalho01_Giovanni_Riccardi_Lourenzatto.ipynb\" target=\"_parent\"><img src=\"https://colab.research.google.com/assets/colab-badge.svg\" alt=\"Open In Colab\"/></a>"
      ]
    },
    {
      "cell_type": "markdown",
      "metadata": {
        "id": "9iFg0tyNWIhY",
        "colab_type": "text"
      },
      "source": [
        "# Trabalho 1\n",
        "\n",
        "___"
      ]
    },
    {
      "cell_type": "markdown",
      "metadata": {
        "id": "2HsuBPW5WIhc",
        "colab_type": "text"
      },
      "source": [
        "O trabalho abaixo deverá ser feito individualmente e entregue até o dia 15/04/2020. A resolução dos exercícios deverá ser feita utilizando os conhecimentos passados em sala sobre python e seus pacotes. Esse trabalho equivale a 40% da nota final da matéria. No dia da entrega três pessoas serão escolhidas aleatoriamente para apresentar seus resultados. O trabalho pode ser feito tanto na máquina do aluno quanto no google colab."
      ]
    },
    {
      "cell_type": "markdown",
      "metadata": {
        "id": "hZw5qgV0WIhe",
        "colab_type": "text"
      },
      "source": [
        "# Dados\n",
        "\n",
        "___"
      ]
    },
    {
      "cell_type": "markdown",
      "metadata": {
        "id": "FwzpZAKyWIhg",
        "colab_type": "text"
      },
      "source": [
        "O dataset utilizado neste trabalho descreve o desempenho escolar dos alunos da Secretaria de Educação do Distrito Federal para o ano letivo de 2017. Ou seja, ele mostra as notas dos alunos em cada matéria e em cada bimestre de todas as escolas da rede pública do Distrito Federal.\n",
        "\n",
        "Esses dados são públicos e podem ser baixados utilizando esse [link](http://dados.df.gov.br/dataset/b8436049-44e7-4224-95b4-224718a4b166/resource/3e654a9d-0647-4e39-930e-7cd07faec888/download/dados-abertos---desempenho-escolar20180515160111.zip). Esse link faz o download de um arquivo .zip de aproximadamente 95 mega e dentro dele está o CSV que usaremos. A função 'get_data()' abaixo foi criada para auxiliar, ela faz o download automaticamente do arquivo (na pasta onde o jupyter notebook foi criado), descomprime o arquivo CSV e o usa para criar um dataframe pandas."
      ]
    },
    {
      "cell_type": "code",
      "metadata": {
        "id": "4AI4U8KJWIhh",
        "colab_type": "code",
        "outputId": "800f3a06-d3c5-471e-d544-0d29a5a3d72e",
        "colab": {
          "base_uri": "https://localhost:8080/",
          "height": 224
        }
      },
      "source": [
        "import pandas as pd\n",
        "import zipfile\n",
        "import warnings\n",
        "\n",
        "warnings.filterwarnings('ignore')\n",
        "\n",
        "def get_data():\n",
        "    \n",
        "    '''\n",
        "    Essa função serve para fazer o download, descomprimir e criar o dataframe para execução do trabalho!\n",
        "    \n",
        "    *** RECOMENDO QUE ESSA FUNÇÃO SEJA UTILIZADA SÓ UMA VEZ ***\n",
        "    \n",
        "    Essa função já retorna um dataframe pandas, recomendo que você já o guarde em uma variável!\n",
        "    \n",
        "    Caso o seu computador estejá devegar, essa função também vai funcionar normalmente no google colab!\n",
        "    \n",
        "    '''\n",
        "    \n",
        "    !wget http://dados.df.gov.br/dataset/b8436049-44e7-4224-95b4-224718a4b166/resource/3e654a9d-0647-4e39-930e-7cd07faec888/download/dados-abertos---desempenho-escolar20180515160111.zip\n",
        "\n",
        "    with zipfile.ZipFile('dados-abertos---desempenho-escolar20180515160111.zip', 'r') as zip_ref:\n",
        "        zip_ref.extractall()\n",
        "\n",
        "    return pd.read_csv('dados abertos - desempenho escolar_20180515_160111.csv',sep=';',encoding='iso-8859-1')\n",
        "\n",
        "df = get_data()"
      ],
      "execution_count": 3,
      "outputs": [
        {
          "output_type": "stream",
          "text": [
            "--2020-04-01 00:28:39--  http://dados.df.gov.br/dataset/b8436049-44e7-4224-95b4-224718a4b166/resource/3e654a9d-0647-4e39-930e-7cd07faec888/download/dados-abertos---desempenho-escolar20180515160111.zip\n",
            "Resolving dados.df.gov.br (dados.df.gov.br)... 131.72.222.17\n",
            "Connecting to dados.df.gov.br (dados.df.gov.br)|131.72.222.17|:80... connected.\n",
            "HTTP request sent, awaiting response... 200 OK\n",
            "Length: 99777290 (95M) [application/zip]\n",
            "Saving to: ‘dados-abertos---desempenho-escolar20180515160111.zip.1’\n",
            "\n",
            "dados-abertos---des 100%[===================>]  95.15M  6.28MB/s    in 48s     \n",
            "\n",
            "2020-04-01 00:29:29 (1.97 MB/s) - ‘dados-abertos---desempenho-escolar20180515160111.zip.1’ saved [99777290/99777290]\n",
            "\n"
          ],
          "name": "stdout"
        }
      ]
    },
    {
      "cell_type": "markdown",
      "metadata": {
        "id": "D7JN8GZoWqAz",
        "colab_type": "text"
      },
      "source": [
        ""
      ]
    },
    {
      "cell_type": "markdown",
      "metadata": {
        "id": "hqsvqg0fWIho",
        "colab_type": "text"
      },
      "source": [
        "# Questões\n",
        "\n",
        "___"
      ]
    },
    {
      "cell_type": "markdown",
      "metadata": {
        "id": "7vPdk7CIWIhq",
        "colab_type": "text"
      },
      "source": [
        "1. Quantas linhas e colunas o dataset tem?\n",
        "2. Qual o nome das colunas?\n",
        "3. Qual turno de aula tem alunos com notas finais maiores? (Demonstre o seu resultado utilizando somente a nota final de cada matéria).\n",
        "4. Quantos alunos diferentes o dataset possui?\n",
        "5. Quantas escolas diferentes o dataset possui?\n",
        "6. Demonstre a distribuição de alunos por série.\n",
        "7. Demonstre a distribuição de escolas por coordenação regional.\n",
        "8. Qual é a matéria que os alunos do ensino médio ('1ª Série', '2ª Série','3ª Série') tiram, em média, a menor nota final?\n",
        "9. Qual é a coordenação regional com o maior número de notas máximas em matemática no último ano do ensino médio ('3ª Série')?\n",
        "10. Quantos valores nulos o dataset possui em cada coluna?\n",
        "11. Qual a distribuição de alunos por curso?\n",
        "12. Os alunos que estudam na primeira série do ensino médio em escolas sobre a responsabilidade da CRE - Plano Piloto tem uma nota final de português melhor do que os alunos de outras CRE para mesma faixa e matéria. Verdadeiro ou Falso? (Para essa questão considere somente duas grandes classes, ser ou não ser da CRE - Plano Piloto).\n",
        "13. Levando em consideração que para ser considerado aprovado o aluno deve tirar uma nota final maior do que 5, qual matéria do ensino médio reprova mais?\n",
        "14. Crie um dataframe onde:\n",
        "\n",
        "- Cada linha seja um aluno (sem repetições) e somente alunos do terceiro ano;\n",
        "- Cada coluna seja uma matéria da lista [matemática, português, física, química, biologia, história, geografia];\n",
        "- Cada valor da coluna será a nota final daquele aluno para aquela matéria.\n",
        "\n",
        "Exemplo: \n",
        "\n",
        "| aluno            | matemática | português | física | química | biologia | história | geografia |\n",
        "|------------------|------------|-----------|--------|---------|----------|----------|-----------|\n",
        "| 1254845612542512 | 9.8        | 5.5       | 6.7    | 5.5     | 8.8      | 7.3      | 3.2       |\n",
        "| 1548451247856985 | 0          | 3.8       | 3.2    | 1.2     | 2.1      | 8.5      | 6.5       |\n",
        "| 1477782552236587 | 5.5        | 6.5       | 7.5    | 9.5     | 10       | 10       | 10        |\n",
        "\n",
        "Nomeie esse novo dataframe de new_df e o utilize para resolver as questões abaixo.\n",
        "\n",
        "15. Existem valores nulos em new_df? Se sim, diga qual é a localização de cada valor nulo (index,column), trate os valores nulos da forma que achar mais adequada e descreva o porque tomou essa decisão.\n",
        "16. Descreva new_df (principais indicadores estatísticos)\n",
        "17. Qual a correlação entre as notas de cada matéria? É possível dizer que existe uma correlação forte entre química e física?\n",
        "18. Demonstre em um só gráfico as notas de química e língua portuguesa de todos os alunos.\n",
        "19. A distribuição de notas de história é simétrica? Comprove plotando um histograma das notas e também utilizando a função .skew().\n",
        "20. Plote e interprete um gráfico 'scatter' entre matemática e a média das notas das disciplinas [biologia, química e física]."
      ]
    },
    {
      "cell_type": "markdown",
      "metadata": {
        "id": "xw0wXBY2WIhq",
        "colab_type": "text"
      },
      "source": [
        "# Observação\n",
        "\n",
        "___\n",
        "\n",
        "Caso encontre alguma inconsistência no dataset, trate-o demonstrando e comentando essa inconsistência.\n",
        "\n",
        "> Para fins de resolução deste trabalho, todas as notas dos alunos devem estar entre 0 e 10. Notas acima desse dessa faixa correspondem a um modelo de pontuação que varia entre 0 e 100 e devem ser convertidos para a faixa padrão de nota. "
      ]
    },
    {
      "cell_type": "markdown",
      "metadata": {
        "id": "ZHTI7IQRkpDH",
        "colab_type": "text"
      },
      "source": [
        "<h2>Visualizando e Explorando</h2>"
      ]
    },
    {
      "cell_type": "code",
      "metadata": {
        "id": "yeDJSrK9ZFeQ",
        "colab_type": "code",
        "outputId": "48e21b67-4278-498a-9804-1ce2c6d239b9",
        "colab": {
          "base_uri": "https://localhost:8080/",
          "height": 479
        }
      },
      "source": [
        "dff = df\n",
        "dff.head()"
      ],
      "execution_count": 4,
      "outputs": [
        {
          "output_type": "execute_result",
          "data": {
            "text/html": [
              "<div>\n",
              "<style scoped>\n",
              "    .dataframe tbody tr th:only-of-type {\n",
              "        vertical-align: middle;\n",
              "    }\n",
              "\n",
              "    .dataframe tbody tr th {\n",
              "        vertical-align: top;\n",
              "    }\n",
              "\n",
              "    .dataframe thead th {\n",
              "        text-align: right;\n",
              "    }\n",
              "</style>\n",
              "<table border=\"1\" class=\"dataframe\">\n",
              "  <thead>\n",
              "    <tr style=\"text-align: right;\">\n",
              "      <th></th>\n",
              "      <th>cod_coordenacao_regional</th>\n",
              "      <th>coordenacao_regional</th>\n",
              "      <th>cod_escola</th>\n",
              "      <th>escola</th>\n",
              "      <th>cod_curso</th>\n",
              "      <th>curso</th>\n",
              "      <th>cod_serie</th>\n",
              "      <th>serie</th>\n",
              "      <th>cod_turno</th>\n",
              "      <th>turno</th>\n",
              "      <th>cod_turma</th>\n",
              "      <th>turma</th>\n",
              "      <th>cod_aluno</th>\n",
              "      <th>bimestre</th>\n",
              "      <th>cod_disciplina</th>\n",
              "      <th>disciplina</th>\n",
              "      <th>nota_bimestral</th>\n",
              "      <th>aulas_bimestre</th>\n",
              "      <th>faltas_bimestre</th>\n",
              "      <th>faltas_justificadas_bimestre</th>\n",
              "      <th>aulas_globalizadas</th>\n",
              "      <th>faltas_globalizadas</th>\n",
              "      <th>faltas_justificadas_globalizadas</th>\n",
              "    </tr>\n",
              "  </thead>\n",
              "  <tbody>\n",
              "    <tr>\n",
              "      <th>0</th>\n",
              "      <td>3</td>\n",
              "      <td>CRE - Plano Piloto</td>\n",
              "      <td>1</td>\n",
              "      <td>CENTRO DE ENSINO FUNDAMENTAL POLIVALENTE</td>\n",
              "      <td>5</td>\n",
              "      <td>Ensino Fundamental de 9 Anos</td>\n",
              "      <td>8</td>\n",
              "      <td>6º Ano</td>\n",
              "      <td>5</td>\n",
              "      <td>Diurno</td>\n",
              "      <td>100329.0</td>\n",
              "      <td>6º ANO B</td>\n",
              "      <td>-8376490126953895597</td>\n",
              "      <td>1</td>\n",
              "      <td>22</td>\n",
              "      <td>Projeto Interdisciplinar I</td>\n",
              "      <td>9.0</td>\n",
              "      <td>10.0</td>\n",
              "      <td>0.0</td>\n",
              "      <td>0.0</td>\n",
              "      <td>NaN</td>\n",
              "      <td>NaN</td>\n",
              "      <td>NaN</td>\n",
              "    </tr>\n",
              "    <tr>\n",
              "      <th>1</th>\n",
              "      <td>3</td>\n",
              "      <td>CRE - Plano Piloto</td>\n",
              "      <td>1</td>\n",
              "      <td>CENTRO DE ENSINO FUNDAMENTAL POLIVALENTE</td>\n",
              "      <td>5</td>\n",
              "      <td>Ensino Fundamental de 9 Anos</td>\n",
              "      <td>8</td>\n",
              "      <td>6º Ano</td>\n",
              "      <td>5</td>\n",
              "      <td>Diurno</td>\n",
              "      <td>100329.0</td>\n",
              "      <td>6º ANO B</td>\n",
              "      <td>-8376490126953895597</td>\n",
              "      <td>2</td>\n",
              "      <td>22</td>\n",
              "      <td>Projeto Interdisciplinar I</td>\n",
              "      <td>8.3</td>\n",
              "      <td>10.0</td>\n",
              "      <td>0.0</td>\n",
              "      <td>0.0</td>\n",
              "      <td>NaN</td>\n",
              "      <td>NaN</td>\n",
              "      <td>NaN</td>\n",
              "    </tr>\n",
              "    <tr>\n",
              "      <th>2</th>\n",
              "      <td>3</td>\n",
              "      <td>CRE - Plano Piloto</td>\n",
              "      <td>1</td>\n",
              "      <td>CENTRO DE ENSINO FUNDAMENTAL POLIVALENTE</td>\n",
              "      <td>5</td>\n",
              "      <td>Ensino Fundamental de 9 Anos</td>\n",
              "      <td>8</td>\n",
              "      <td>6º Ano</td>\n",
              "      <td>5</td>\n",
              "      <td>Diurno</td>\n",
              "      <td>100329.0</td>\n",
              "      <td>6º ANO B</td>\n",
              "      <td>-8376490126953895597</td>\n",
              "      <td>3</td>\n",
              "      <td>22</td>\n",
              "      <td>Projeto Interdisciplinar I</td>\n",
              "      <td>6.5</td>\n",
              "      <td>10.0</td>\n",
              "      <td>0.0</td>\n",
              "      <td>0.0</td>\n",
              "      <td>NaN</td>\n",
              "      <td>NaN</td>\n",
              "      <td>NaN</td>\n",
              "    </tr>\n",
              "    <tr>\n",
              "      <th>3</th>\n",
              "      <td>3</td>\n",
              "      <td>CRE - Plano Piloto</td>\n",
              "      <td>1</td>\n",
              "      <td>CENTRO DE ENSINO FUNDAMENTAL POLIVALENTE</td>\n",
              "      <td>5</td>\n",
              "      <td>Ensino Fundamental de 9 Anos</td>\n",
              "      <td>8</td>\n",
              "      <td>6º Ano</td>\n",
              "      <td>5</td>\n",
              "      <td>Diurno</td>\n",
              "      <td>100329.0</td>\n",
              "      <td>6º ANO B</td>\n",
              "      <td>-8376490126953895597</td>\n",
              "      <td>4</td>\n",
              "      <td>22</td>\n",
              "      <td>Projeto Interdisciplinar I</td>\n",
              "      <td>9.5</td>\n",
              "      <td>9.0</td>\n",
              "      <td>0.0</td>\n",
              "      <td>0.0</td>\n",
              "      <td>NaN</td>\n",
              "      <td>NaN</td>\n",
              "      <td>NaN</td>\n",
              "    </tr>\n",
              "    <tr>\n",
              "      <th>4</th>\n",
              "      <td>3</td>\n",
              "      <td>CRE - Plano Piloto</td>\n",
              "      <td>1</td>\n",
              "      <td>CENTRO DE ENSINO FUNDAMENTAL POLIVALENTE</td>\n",
              "      <td>5</td>\n",
              "      <td>Ensino Fundamental de 9 Anos</td>\n",
              "      <td>8</td>\n",
              "      <td>6º Ano</td>\n",
              "      <td>5</td>\n",
              "      <td>Diurno</td>\n",
              "      <td>100329.0</td>\n",
              "      <td>6º ANO B</td>\n",
              "      <td>-8376490126953895597</td>\n",
              "      <td>resultado final</td>\n",
              "      <td>22</td>\n",
              "      <td>Projeto Interdisciplinar I</td>\n",
              "      <td>8.5</td>\n",
              "      <td>NaN</td>\n",
              "      <td>NaN</td>\n",
              "      <td>NaN</td>\n",
              "      <td>NaN</td>\n",
              "      <td>NaN</td>\n",
              "      <td>NaN</td>\n",
              "    </tr>\n",
              "  </tbody>\n",
              "</table>\n",
              "</div>"
            ],
            "text/plain": [
              "   cod_coordenacao_regional  ... faltas_justificadas_globalizadas\n",
              "0                         3  ...                              NaN\n",
              "1                         3  ...                              NaN\n",
              "2                         3  ...                              NaN\n",
              "3                         3  ...                              NaN\n",
              "4                         3  ...                              NaN\n",
              "\n",
              "[5 rows x 23 columns]"
            ]
          },
          "metadata": {
            "tags": []
          },
          "execution_count": 4
        }
      ]
    },
    {
      "cell_type": "code",
      "metadata": {
        "id": "PUZgrwjji5pm",
        "colab_type": "code",
        "outputId": "17cb1dce-233b-4d6a-f59e-f9a7e3296844",
        "colab": {
          "base_uri": "https://localhost:8080/",
          "height": 317
        }
      },
      "source": [
        "dff.describe()\n",
        "## verificado a existencia de notas acima de 10"
      ],
      "execution_count": 0,
      "outputs": [
        {
          "output_type": "execute_result",
          "data": {
            "text/html": [
              "<div>\n",
              "<style scoped>\n",
              "    .dataframe tbody tr th:only-of-type {\n",
              "        vertical-align: middle;\n",
              "    }\n",
              "\n",
              "    .dataframe tbody tr th {\n",
              "        vertical-align: top;\n",
              "    }\n",
              "\n",
              "    .dataframe thead th {\n",
              "        text-align: right;\n",
              "    }\n",
              "</style>\n",
              "<table border=\"1\" class=\"dataframe\">\n",
              "  <thead>\n",
              "    <tr style=\"text-align: right;\">\n",
              "      <th></th>\n",
              "      <th>cod_coordenacao_regional</th>\n",
              "      <th>cod_escola</th>\n",
              "      <th>cod_curso</th>\n",
              "      <th>cod_serie</th>\n",
              "      <th>cod_turno</th>\n",
              "      <th>cod_turma</th>\n",
              "      <th>cod_aluno</th>\n",
              "      <th>cod_disciplina</th>\n",
              "      <th>nota_bimestral</th>\n",
              "      <th>aulas_bimestre</th>\n",
              "      <th>faltas_bimestre</th>\n",
              "      <th>faltas_justificadas_bimestre</th>\n",
              "      <th>aulas_globalizadas</th>\n",
              "      <th>faltas_globalizadas</th>\n",
              "      <th>faltas_justificadas_globalizadas</th>\n",
              "    </tr>\n",
              "  </thead>\n",
              "  <tbody>\n",
              "    <tr>\n",
              "      <th>count</th>\n",
              "      <td>1.277908e+07</td>\n",
              "      <td>1.277908e+07</td>\n",
              "      <td>1.277908e+07</td>\n",
              "      <td>1.277908e+07</td>\n",
              "      <td>1.277908e+07</td>\n",
              "      <td>1.277819e+07</td>\n",
              "      <td>1.277908e+07</td>\n",
              "      <td>1.277908e+07</td>\n",
              "      <td>1.199008e+07</td>\n",
              "      <td>9.355112e+06</td>\n",
              "      <td>9.355112e+06</td>\n",
              "      <td>8.505052e+06</td>\n",
              "      <td>787287.000000</td>\n",
              "      <td>788565.000000</td>\n",
              "      <td>787287.000000</td>\n",
              "    </tr>\n",
              "    <tr>\n",
              "      <th>mean</th>\n",
              "      <td>8.559932e+00</td>\n",
              "      <td>2.872976e+02</td>\n",
              "      <td>5.375894e+00</td>\n",
              "      <td>1.548509e+01</td>\n",
              "      <td>4.967697e+00</td>\n",
              "      <td>1.071720e+05</td>\n",
              "      <td>-6.794527e+15</td>\n",
              "      <td>2.747423e+01</td>\n",
              "      <td>7.822266e+00</td>\n",
              "      <td>2.686968e+01</td>\n",
              "      <td>3.184486e+00</td>\n",
              "      <td>5.720153e-02</td>\n",
              "      <td>49.888175</td>\n",
              "      <td>4.796755</td>\n",
              "      <td>0.220142</td>\n",
              "    </tr>\n",
              "    <tr>\n",
              "      <th>std</th>\n",
              "      <td>4.136470e+00</td>\n",
              "      <td>2.138640e+02</td>\n",
              "      <td>6.903319e-01</td>\n",
              "      <td>7.349963e+00</td>\n",
              "      <td>1.768024e-01</td>\n",
              "      <td>4.934435e+03</td>\n",
              "      <td>5.331401e+18</td>\n",
              "      <td>1.469139e+01</td>\n",
              "      <td>1.385418e+01</td>\n",
              "      <td>1.302313e+01</td>\n",
              "      <td>5.708393e+00</td>\n",
              "      <td>8.946045e-01</td>\n",
              "      <td>3.092607</td>\n",
              "      <td>6.036299</td>\n",
              "      <td>1.346830</td>\n",
              "    </tr>\n",
              "    <tr>\n",
              "      <th>min</th>\n",
              "      <td>3.000000e+00</td>\n",
              "      <td>1.000000e+00</td>\n",
              "      <td>2.000000e+00</td>\n",
              "      <td>8.000000e+00</td>\n",
              "      <td>4.000000e+00</td>\n",
              "      <td>1.002860e+05</td>\n",
              "      <td>-9.223313e+18</td>\n",
              "      <td>1.000000e+00</td>\n",
              "      <td>0.000000e+00</td>\n",
              "      <td>0.000000e+00</td>\n",
              "      <td>0.000000e+00</td>\n",
              "      <td>0.000000e+00</td>\n",
              "      <td>0.000000</td>\n",
              "      <td>0.000000</td>\n",
              "      <td>0.000000</td>\n",
              "    </tr>\n",
              "    <tr>\n",
              "      <th>25%</th>\n",
              "      <td>4.000000e+00</td>\n",
              "      <td>1.000000e+02</td>\n",
              "      <td>5.000000e+00</td>\n",
              "      <td>9.000000e+00</td>\n",
              "      <td>5.000000e+00</td>\n",
              "      <td>1.028680e+05</td>\n",
              "      <td>-4.624399e+18</td>\n",
              "      <td>1.300000e+01</td>\n",
              "      <td>4.940000e+00</td>\n",
              "      <td>1.800000e+01</td>\n",
              "      <td>0.000000e+00</td>\n",
              "      <td>0.000000e+00</td>\n",
              "      <td>50.000000</td>\n",
              "      <td>1.000000</td>\n",
              "      <td>0.000000</td>\n",
              "    </tr>\n",
              "    <tr>\n",
              "      <th>50%</th>\n",
              "      <td>9.000000e+00</td>\n",
              "      <td>2.710000e+02</td>\n",
              "      <td>5.000000e+00</td>\n",
              "      <td>1.100000e+01</td>\n",
              "      <td>5.000000e+00</td>\n",
              "      <td>1.066860e+05</td>\n",
              "      <td>-1.464666e+16</td>\n",
              "      <td>2.300000e+01</td>\n",
              "      <td>6.000000e+00</td>\n",
              "      <td>2.300000e+01</td>\n",
              "      <td>1.000000e+00</td>\n",
              "      <td>0.000000e+00</td>\n",
              "      <td>50.000000</td>\n",
              "      <td>3.000000</td>\n",
              "      <td>0.000000</td>\n",
              "    </tr>\n",
              "    <tr>\n",
              "      <th>75%</th>\n",
              "      <td>1.200000e+01</td>\n",
              "      <td>4.650000e+02</td>\n",
              "      <td>6.000000e+00</td>\n",
              "      <td>2.100000e+01</td>\n",
              "      <td>5.000000e+00</td>\n",
              "      <td>1.117260e+05</td>\n",
              "      <td>4.606759e+18</td>\n",
              "      <td>3.900000e+01</td>\n",
              "      <td>7.500000e+00</td>\n",
              "      <td>3.700000e+01</td>\n",
              "      <td>4.000000e+00</td>\n",
              "      <td>0.000000e+00</td>\n",
              "      <td>50.000000</td>\n",
              "      <td>6.000000</td>\n",
              "      <td>0.000000</td>\n",
              "    </tr>\n",
              "    <tr>\n",
              "      <th>max</th>\n",
              "      <td>1.600000e+01</td>\n",
              "      <td>8.740000e+02</td>\n",
              "      <td>1.100000e+01</td>\n",
              "      <td>8.400000e+01</td>\n",
              "      <td>5.000000e+00</td>\n",
              "      <td>1.333460e+05</td>\n",
              "      <td>9.223294e+18</td>\n",
              "      <td>1.100000e+02</td>\n",
              "      <td>1.000000e+02</td>\n",
              "      <td>1.890000e+02</td>\n",
              "      <td>9.500000e+01</td>\n",
              "      <td>8.100000e+01</td>\n",
              "      <td>111.000000</td>\n",
              "      <td>71.000000</td>\n",
              "      <td>55.000000</td>\n",
              "    </tr>\n",
              "  </tbody>\n",
              "</table>\n",
              "</div>"
            ],
            "text/plain": [
              "       cod_coordenacao_regional  ...  faltas_justificadas_globalizadas\n",
              "count              1.277908e+07  ...                     787287.000000\n",
              "mean               8.559932e+00  ...                          0.220142\n",
              "std                4.136470e+00  ...                          1.346830\n",
              "min                3.000000e+00  ...                          0.000000\n",
              "25%                4.000000e+00  ...                          0.000000\n",
              "50%                9.000000e+00  ...                          0.000000\n",
              "75%                1.200000e+01  ...                          0.000000\n",
              "max                1.600000e+01  ...                         55.000000\n",
              "\n",
              "[8 rows x 15 columns]"
            ]
          },
          "metadata": {
            "tags": []
          },
          "execution_count": 45
        }
      ]
    },
    {
      "cell_type": "code",
      "metadata": {
        "id": "fZRUa2IsjVgk",
        "colab_type": "code",
        "colab": {}
      },
      "source": [
        "## tratando notas acima de 10, dividindo as mesmas por 10 e criando nova coluna \n",
        "def ajusta_nota(value):\n",
        "  if value <= 10:\n",
        "    return value\n",
        "  else:\n",
        "    return value/10\n",
        "\n",
        "dff['nota_ajustada'] = dff['nota_bimestral'].apply(ajusta_nota)"
      ],
      "execution_count": 0,
      "outputs": []
    },
    {
      "cell_type": "markdown",
      "metadata": {
        "id": "WvOD6t2sXJQe",
        "colab_type": "text"
      },
      "source": [
        "<h2>1. Quantas linhas e colunas o dataset tem?</h2>"
      ]
    },
    {
      "cell_type": "code",
      "metadata": {
        "id": "J6eEcfndXSUX",
        "colab_type": "code",
        "outputId": "a2e7216d-84b5-4e27-9d69-5f73c0455717",
        "colab": {
          "base_uri": "https://localhost:8080/",
          "height": 34
        }
      },
      "source": [
        "dff.shape\n",
        "## 12779084 linhas e 23 colunas"
      ],
      "execution_count": 0,
      "outputs": [
        {
          "output_type": "execute_result",
          "data": {
            "text/plain": [
              "(12779084, 23)"
            ]
          },
          "metadata": {
            "tags": []
          },
          "execution_count": 30
        }
      ]
    },
    {
      "cell_type": "markdown",
      "metadata": {
        "id": "vmWF8fvVYgHo",
        "colab_type": "text"
      },
      "source": [
        "<h2>2. Qual o nome das colunas?</h2>"
      ]
    },
    {
      "cell_type": "code",
      "metadata": {
        "id": "rVSvnkJ1Yi8Q",
        "colab_type": "code",
        "outputId": "1bdc1192-3f84-475e-f5b9-1d76a8b894fe",
        "colab": {
          "base_uri": "https://localhost:8080/",
          "height": 493
        }
      },
      "source": [
        "dff.columns\n",
        "dff.info()"
      ],
      "execution_count": 0,
      "outputs": [
        {
          "output_type": "stream",
          "text": [
            "<class 'pandas.core.frame.DataFrame'>\n",
            "RangeIndex: 12779084 entries, 0 to 12779083\n",
            "Data columns (total 23 columns):\n",
            "cod_coordenacao_regional            int64\n",
            "coordenacao_regional                object\n",
            "cod_escola                          int64\n",
            "escola                              object\n",
            "cod_curso                           int64\n",
            "curso                               object\n",
            "cod_serie                           int64\n",
            "serie                               object\n",
            "cod_turno                           int64\n",
            "turno                               object\n",
            "cod_turma                           float64\n",
            "turma                               object\n",
            "cod_aluno                           int64\n",
            "bimestre                            object\n",
            "cod_disciplina                      int64\n",
            "disciplina                          object\n",
            "nota_bimestral                      float64\n",
            "aulas_bimestre                      float64\n",
            "faltas_bimestre                     float64\n",
            "faltas_justificadas_bimestre        float64\n",
            "aulas_globalizadas                  float64\n",
            "faltas_globalizadas                 float64\n",
            "faltas_justificadas_globalizadas    float64\n",
            "dtypes: float64(8), int64(7), object(8)\n",
            "memory usage: 2.2+ GB\n"
          ],
          "name": "stdout"
        }
      ]
    },
    {
      "cell_type": "markdown",
      "metadata": {
        "id": "1lODKsRbY5MO",
        "colab_type": "text"
      },
      "source": [
        "<h2>3. Qual turno de aula tem alunos com notas finais maiores? (Demonstre o seu resultado utilizando somente a nota final de cada matéria).</h2>"
      ]
    },
    {
      "cell_type": "code",
      "metadata": {
        "id": "j3L6B0Z_ZOLU",
        "colab_type": "code",
        "outputId": "5b4cb12c-c7a3-47d8-97b2-5094c42fb88e",
        "colab": {
          "base_uri": "https://localhost:8080/",
          "height": 85
        }
      },
      "source": [
        "#dff.groupby(['turno'])['nota_bimestral'].mean()\n",
        "dff[dff[\"bimestre\"] == \"resultado final\"].groupby(['turno'])['nota_ajustada'].mean()\n"
      ],
      "execution_count": 29,
      "outputs": [
        {
          "output_type": "execute_result",
          "data": {
            "text/plain": [
              "turno\n",
              "Diurno     6.151030\n",
              "Noturno    6.883233\n",
              "Name: nota_ajustada, dtype: float64"
            ]
          },
          "metadata": {
            "tags": []
          },
          "execution_count": 29
        }
      ]
    },
    {
      "cell_type": "markdown",
      "metadata": {
        "id": "3WepoyeLl3ZG",
        "colab_type": "text"
      },
      "source": [
        "<h2>4. Quantos alunos diferentes o dataset possui?</h2>\n",
        "\n"
      ]
    },
    {
      "cell_type": "code",
      "metadata": {
        "id": "5HayCIpKmBtB",
        "colab_type": "code",
        "outputId": "650c01e2-ffca-4760-cf87-b49a0de99308",
        "colab": {
          "base_uri": "https://localhost:8080/",
          "height": 34
        }
      },
      "source": [
        "dff.cod_aluno.nunique()"
      ],
      "execution_count": 0,
      "outputs": [
        {
          "output_type": "execute_result",
          "data": {
            "text/plain": [
              "413121"
            ]
          },
          "metadata": {
            "tags": []
          },
          "execution_count": 49
        }
      ]
    },
    {
      "cell_type": "markdown",
      "metadata": {
        "id": "IbPFTapWmbSZ",
        "colab_type": "text"
      },
      "source": [
        "<h2>5. Quantas escolas diferentes o dataset possui?</h2>"
      ]
    },
    {
      "cell_type": "code",
      "metadata": {
        "id": "j10WiTvomiTz",
        "colab_type": "code",
        "outputId": "e53c3af3-f410-4d10-9983-d30523014182",
        "colab": {
          "base_uri": "https://localhost:8080/",
          "height": 34
        }
      },
      "source": [
        "dff.cod_escola.nunique()"
      ],
      "execution_count": 0,
      "outputs": [
        {
          "output_type": "execute_result",
          "data": {
            "text/plain": [
              "627"
            ]
          },
          "metadata": {
            "tags": []
          },
          "execution_count": 50
        }
      ]
    },
    {
      "cell_type": "markdown",
      "metadata": {
        "id": "tPoy4_lZkSrq",
        "colab_type": "text"
      },
      "source": [
        "<h1>6. Demonstre a distribuição de alunos por série.</h1>"
      ]
    },
    {
      "cell_type": "code",
      "metadata": {
        "id": "jP6VmCp0kXyz",
        "colab_type": "code",
        "colab": {
          "base_uri": "https://localhost:8080/",
          "height": 1000
        },
        "outputId": "8cc0fd1a-c247-4556-9169-37acc18e71f4"
      },
      "source": [
        "dff[['cod_aluno','serie']].groupby(['serie']).count() ## olhar agrupamento de aluno\n"
      ],
      "execution_count": 89,
      "outputs": [
        {
          "output_type": "execute_result",
          "data": {
            "text/html": [
              "<div>\n",
              "<style scoped>\n",
              "    .dataframe tbody tr th:only-of-type {\n",
              "        vertical-align: middle;\n",
              "    }\n",
              "\n",
              "    .dataframe tbody tr th {\n",
              "        vertical-align: top;\n",
              "    }\n",
              "\n",
              "    .dataframe thead th {\n",
              "        text-align: right;\n",
              "    }\n",
              "</style>\n",
              "<table border=\"1\" class=\"dataframe\">\n",
              "  <thead>\n",
              "    <tr style=\"text-align: right;\">\n",
              "      <th></th>\n",
              "      <th>cod_aluno</th>\n",
              "    </tr>\n",
              "    <tr>\n",
              "      <th>serie</th>\n",
              "      <th></th>\n",
              "    </tr>\n",
              "  </thead>\n",
              "  <tbody>\n",
              "    <tr>\n",
              "      <th>1ª Série</th>\n",
              "      <td>2163680</td>\n",
              "    </tr>\n",
              "    <tr>\n",
              "      <th>1ª Série EM Especial</th>\n",
              "      <td>24</td>\n",
              "    </tr>\n",
              "    <tr>\n",
              "      <th>1º Ano</th>\n",
              "      <td>113673</td>\n",
              "    </tr>\n",
              "    <tr>\n",
              "      <th>1º Ano especial</th>\n",
              "      <td>3974</td>\n",
              "    </tr>\n",
              "    <tr>\n",
              "      <th>1º Período</th>\n",
              "      <td>76268</td>\n",
              "    </tr>\n",
              "    <tr>\n",
              "      <th>1º Período  Especial</th>\n",
              "      <td>449</td>\n",
              "    </tr>\n",
              "    <tr>\n",
              "      <th>2ª Série</th>\n",
              "      <td>1605231</td>\n",
              "    </tr>\n",
              "    <tr>\n",
              "      <th>2º Ano</th>\n",
              "      <td>112292</td>\n",
              "    </tr>\n",
              "    <tr>\n",
              "      <th>2º Ano Especial</th>\n",
              "      <td>449</td>\n",
              "    </tr>\n",
              "    <tr>\n",
              "      <th>2º Ciclo - Bloco 1</th>\n",
              "      <td>94</td>\n",
              "    </tr>\n",
              "    <tr>\n",
              "      <th>2º Ciclo - Bloco 2</th>\n",
              "      <td>283</td>\n",
              "    </tr>\n",
              "    <tr>\n",
              "      <th>2º Período</th>\n",
              "      <td>93900</td>\n",
              "    </tr>\n",
              "    <tr>\n",
              "      <th>2º Período Especial</th>\n",
              "      <td>144</td>\n",
              "    </tr>\n",
              "    <tr>\n",
              "      <th>3ª Série</th>\n",
              "      <td>1315689</td>\n",
              "    </tr>\n",
              "    <tr>\n",
              "      <th>3º Ano</th>\n",
              "      <td>138748</td>\n",
              "    </tr>\n",
              "    <tr>\n",
              "      <th>3º Ano especial</th>\n",
              "      <td>508</td>\n",
              "    </tr>\n",
              "    <tr>\n",
              "      <th>3º Ciclo - Bloco 1</th>\n",
              "      <td>15043</td>\n",
              "    </tr>\n",
              "    <tr>\n",
              "      <th>3º Ciclo - Bloco 2</th>\n",
              "      <td>11263</td>\n",
              "    </tr>\n",
              "    <tr>\n",
              "      <th>4º Ano</th>\n",
              "      <td>119593</td>\n",
              "    </tr>\n",
              "    <tr>\n",
              "      <th>4º Ano especial</th>\n",
              "      <td>136</td>\n",
              "    </tr>\n",
              "    <tr>\n",
              "      <th>5º Ano</th>\n",
              "      <td>123459</td>\n",
              "    </tr>\n",
              "    <tr>\n",
              "      <th>5º Ano especial</th>\n",
              "      <td>276</td>\n",
              "    </tr>\n",
              "    <tr>\n",
              "      <th>6º Ano</th>\n",
              "      <td>1907358</td>\n",
              "    </tr>\n",
              "    <tr>\n",
              "      <th>6º Ano especial</th>\n",
              "      <td>694</td>\n",
              "    </tr>\n",
              "    <tr>\n",
              "      <th>7º Ano</th>\n",
              "      <td>1804578</td>\n",
              "    </tr>\n",
              "    <tr>\n",
              "      <th>7º Ano especial</th>\n",
              "      <td>216</td>\n",
              "    </tr>\n",
              "    <tr>\n",
              "      <th>8º Ano</th>\n",
              "      <td>1631723</td>\n",
              "    </tr>\n",
              "    <tr>\n",
              "      <th>8º Ano especial</th>\n",
              "      <td>12</td>\n",
              "    </tr>\n",
              "    <tr>\n",
              "      <th>9º Ano</th>\n",
              "      <td>1520751</td>\n",
              "    </tr>\n",
              "    <tr>\n",
              "      <th>Berçário I</th>\n",
              "      <td>100</td>\n",
              "    </tr>\n",
              "    <tr>\n",
              "      <th>Berçário II</th>\n",
              "      <td>112</td>\n",
              "    </tr>\n",
              "    <tr>\n",
              "      <th>Bloco Ensino Médio - 1ª série</th>\n",
              "      <td>10929</td>\n",
              "    </tr>\n",
              "    <tr>\n",
              "      <th>Bloco Ensino Médio - 2ª série</th>\n",
              "      <td>3326</td>\n",
              "    </tr>\n",
              "    <tr>\n",
              "      <th>Bloco Ensino Médio - 3ª série</th>\n",
              "      <td>948</td>\n",
              "    </tr>\n",
              "    <tr>\n",
              "      <th>Maternal I</th>\n",
              "      <td>433</td>\n",
              "    </tr>\n",
              "    <tr>\n",
              "      <th>Maternal II</th>\n",
              "      <td>2728</td>\n",
              "    </tr>\n",
              "  </tbody>\n",
              "</table>\n",
              "</div>"
            ],
            "text/plain": [
              "                               cod_aluno\n",
              "serie                                   \n",
              "1ª Série                         2163680\n",
              "1ª Série EM Especial                  24\n",
              "1º Ano                            113673\n",
              "1º Ano especial                     3974\n",
              "1º Período                         76268\n",
              "1º Período  Especial                 449\n",
              "2ª Série                         1605231\n",
              "2º Ano                            112292\n",
              "2º Ano Especial                      449\n",
              "2º Ciclo - Bloco 1                    94\n",
              "2º Ciclo - Bloco 2                   283\n",
              "2º Período                         93900\n",
              "2º Período Especial                  144\n",
              "3ª Série                         1315689\n",
              "3º Ano                            138748\n",
              "3º Ano especial                      508\n",
              "3º Ciclo - Bloco 1                 15043\n",
              "3º Ciclo - Bloco 2                 11263\n",
              "4º Ano                            119593\n",
              "4º Ano especial                      136\n",
              "5º Ano                            123459\n",
              "5º Ano especial                      276\n",
              "6º Ano                           1907358\n",
              "6º Ano especial                      694\n",
              "7º Ano                           1804578\n",
              "7º Ano especial                      216\n",
              "8º Ano                           1631723\n",
              "8º Ano especial                       12\n",
              "9º Ano                           1520751\n",
              "Berçário I                           100\n",
              "Berçário II                          112\n",
              "Bloco Ensino Médio - 1ª série      10929\n",
              "Bloco Ensino Médio - 2ª série       3326\n",
              "Bloco Ensino Médio - 3ª série        948\n",
              "Maternal I                           433\n",
              "Maternal II                         2728"
            ]
          },
          "metadata": {
            "tags": []
          },
          "execution_count": 89
        }
      ]
    },
    {
      "cell_type": "code",
      "metadata": {
        "id": "xd3gNC272zcs",
        "colab_type": "code",
        "colab": {
          "base_uri": "https://localhost:8080/",
          "height": 442
        },
        "outputId": "e94022a9-20ef-40b1-ce70-2958f578d2f7"
      },
      "source": [
        "dff[['cod_aluno','serie']].groupby(['serie']).count().plot(kind='bar')"
      ],
      "execution_count": 81,
      "outputs": [
        {
          "output_type": "execute_result",
          "data": {
            "text/plain": [
              "<matplotlib.axes._subplots.AxesSubplot at 0x7f09d76d5c18>"
            ]
          },
          "metadata": {
            "tags": []
          },
          "execution_count": 81
        },
        {
          "output_type": "display_data",
          "data": {
            "image/png": "[encoded data removed]",
            "text/plain": [
              "<Figure size 432x288 with 1 Axes>"
            ]
          },
          "metadata": {
            "tags": []
          }
        }
      ]
    },
    {
      "cell_type": "markdown",
      "metadata": {
        "id": "M9fzY7j1nt9Q",
        "colab_type": "text"
      },
      "source": [
        "<h1>7. Demonstre a distribuição de escolas por coordenação regional.</h1>"
      ]
    },
    {
      "cell_type": "code",
      "metadata": {
        "id": "UF8Geg-coJ2z",
        "colab_type": "code",
        "colab": {
          "base_uri": "https://localhost:8080/",
          "height": 514
        },
        "outputId": "79ee1f11-281c-4fa4-c7b5-f8c54f2551a4"
      },
      "source": [
        "dff[['escola','coordenacao_regional']].groupby(['coordenacao_regional']).count()"
      ],
      "execution_count": 83,
      "outputs": [
        {
          "output_type": "execute_result",
          "data": {
            "text/html": [
              "<div>\n",
              "<style scoped>\n",
              "    .dataframe tbody tr th:only-of-type {\n",
              "        vertical-align: middle;\n",
              "    }\n",
              "\n",
              "    .dataframe tbody tr th {\n",
              "        vertical-align: top;\n",
              "    }\n",
              "\n",
              "    .dataframe thead th {\n",
              "        text-align: right;\n",
              "    }\n",
              "</style>\n",
              "<table border=\"1\" class=\"dataframe\">\n",
              "  <thead>\n",
              "    <tr style=\"text-align: right;\">\n",
              "      <th></th>\n",
              "      <th>escola</th>\n",
              "    </tr>\n",
              "    <tr>\n",
              "      <th>coordenacao_regional</th>\n",
              "      <th></th>\n",
              "    </tr>\n",
              "  </thead>\n",
              "  <tbody>\n",
              "    <tr>\n",
              "      <th>CRE - Brazlândia</th>\n",
              "      <td>515870</td>\n",
              "    </tr>\n",
              "    <tr>\n",
              "      <th>CRE - Ceilândia</th>\n",
              "      <td>2201175</td>\n",
              "    </tr>\n",
              "    <tr>\n",
              "      <th>CRE - Gama</th>\n",
              "      <td>1052591</td>\n",
              "    </tr>\n",
              "    <tr>\n",
              "      <th>CRE - Guará</th>\n",
              "      <td>499530</td>\n",
              "    </tr>\n",
              "    <tr>\n",
              "      <th>CRE - Núcleo Bandeirante</th>\n",
              "      <td>635843</td>\n",
              "    </tr>\n",
              "    <tr>\n",
              "      <th>CRE - Paranoá</th>\n",
              "      <td>613761</td>\n",
              "    </tr>\n",
              "    <tr>\n",
              "      <th>CRE - Planaltina</th>\n",
              "      <td>1036694</td>\n",
              "    </tr>\n",
              "    <tr>\n",
              "      <th>CRE - Plano Piloto</th>\n",
              "      <td>1265309</td>\n",
              "    </tr>\n",
              "    <tr>\n",
              "      <th>CRE - Recanto das Emas</th>\n",
              "      <td>731327</td>\n",
              "    </tr>\n",
              "    <tr>\n",
              "      <th>CRE - Samambaia</th>\n",
              "      <td>923202</td>\n",
              "    </tr>\n",
              "    <tr>\n",
              "      <th>CRE - Santa Maria</th>\n",
              "      <td>637174</td>\n",
              "    </tr>\n",
              "    <tr>\n",
              "      <th>CRE - Sobradinho</th>\n",
              "      <td>767990</td>\n",
              "    </tr>\n",
              "    <tr>\n",
              "      <th>CRE - São Sebastião</th>\n",
              "      <td>567975</td>\n",
              "    </tr>\n",
              "    <tr>\n",
              "      <th>CRE - Taguatinga</th>\n",
              "      <td>1330643</td>\n",
              "    </tr>\n",
              "  </tbody>\n",
              "</table>\n",
              "</div>"
            ],
            "text/plain": [
              "                           escola\n",
              "coordenacao_regional             \n",
              "CRE - Brazlândia           515870\n",
              "CRE - Ceilândia           2201175\n",
              "CRE - Gama                1052591\n",
              "CRE - Guará                499530\n",
              "CRE - Núcleo Bandeirante   635843\n",
              "CRE - Paranoá              613761\n",
              "CRE - Planaltina          1036694\n",
              "CRE - Plano Piloto        1265309\n",
              "CRE - Recanto das Emas     731327\n",
              "CRE - Samambaia            923202\n",
              "CRE - Santa Maria          637174\n",
              "CRE - Sobradinho           767990\n",
              "CRE - São Sebastião        567975\n",
              "CRE - Taguatinga          1330643"
            ]
          },
          "metadata": {
            "tags": []
          },
          "execution_count": 83
        }
      ]
    },
    {
      "cell_type": "markdown",
      "metadata": {
        "id": "MLN6mMh244J9",
        "colab_type": "text"
      },
      "source": [
        "<h1>8. Qual é a matéria que os alunos do ensino médio ('1ª Série', '2ª Série','3ª Série') tiram, em média, a menor nota final?</h1>"
      ]
    },
    {
      "cell_type": "code",
      "metadata": {
        "id": "ESVGsmMZ47gO",
        "colab_type": "code",
        "colab": {
          "base_uri": "https://localhost:8080/",
          "height": 340
        },
        "outputId": "555f22f9-3f06-4081-f27e-3d0256c27f3b"
      },
      "source": [
        "lista_filtro = ['3ª Série', '2ª Série', '1ª Série']\n",
        "dff8 = dff[(dff[\"bimestre\"] == \"resultado final\") & (dff[\"serie\"].isin(lista_filtro))]\n",
        "dff8.groupby(['disciplina'])['nota_ajustada'].mean()"
      ],
      "execution_count": 97,
      "outputs": [
        {
          "output_type": "execute_result",
          "data": {
            "text/plain": [
              "disciplina\n",
              "Arte                             6.652213\n",
              "Biologia                         6.200268\n",
              "Educação Física                  7.153535\n",
              "Ensino Religioso                 1.394017\n",
              "Filosofia                        6.322245\n",
              "Física                           5.954836\n",
              "Geografia                        6.401700\n",
              "História                         6.316606\n",
              "Língua Estrangeira - Espanhol    6.656597\n",
              "Língua Estrangeira - Inglês      6.437574\n",
              "Língua Portuguesa                6.059749\n",
              "Matemática                       5.718658\n",
              "Projeto Interdisciplinar I       6.765876\n",
              "Projeto Interdisciplinar II      6.045421\n",
              "Projeto Interdisciplinar III     4.365675\n",
              "Química                          5.935454\n",
              "Sociologia                       6.395493\n",
              "Name: nota_ajustada, dtype: float64"
            ]
          },
          "metadata": {
            "tags": []
          },
          "execution_count": 97
        }
      ]
    },
    {
      "cell_type": "markdown",
      "metadata": {
        "id": "cpc3FDYj_7He",
        "colab_type": "text"
      },
      "source": [
        "A disciplina com menor nota é **Ensino Religioso**, porém a maior parte da base possui a nota de ensino religioso igual a 0. Logo em segundo lugar vem **Matemática** com **5.718658** de média."
      ]
    },
    {
      "cell_type": "markdown",
      "metadata": {
        "id": "JzqwgFmkAwGA",
        "colab_type": "text"
      },
      "source": [
        "<h2>9. Qual é a coordenação regional com o maior número de notas máximas em matemática no último ano do ensino médio ('3ª Série')?</h2>"
      ]
    },
    {
      "cell_type": "code",
      "metadata": {
        "id": "Ss63YgyOA15B",
        "colab_type": "code",
        "colab": {
          "base_uri": "https://localhost:8080/",
          "height": 416
        },
        "outputId": "6ec67a1d-0a8e-4d37-8ff9-41040f8b31cd"
      },
      "source": [
        "dff9 = dff[(dff[\"bimestre\"] == \"resultado final\") & (dff[\"serie\"] == \"3ª Série\") & (dff[\"disciplina\"] == \"Matemática\") & (dff[\"nota_ajustada\"] == 10 )]\n",
        "dff9[['nota_ajustada','coordenacao_regional']].groupby(['coordenacao_regional']).count().plot(kind='bar')\n"
      ],
      "execution_count": 106,
      "outputs": [
        {
          "output_type": "execute_result",
          "data": {
            "text/plain": [
              "<matplotlib.axes._subplots.AxesSubplot at 0x7f09cc3974e0>"
            ]
          },
          "metadata": {
            "tags": []
          },
          "execution_count": 106
        },
        {
          "output_type": "display_data",
          "data": {
            "image/png": "[encoded data removed]",
            "text/plain": [
              "<Figure size 432x288 with 1 Axes>"
            ]
          },
          "metadata": {
            "tags": []
          }
        }
      ]
    },
    {
      "cell_type": "markdown",
      "metadata": {
        "id": "QKnAT0wfDY42",
        "colab_type": "text"
      },
      "source": [
        "<h2>10. Quantos valores nulos o dataset possui em cada coluna?</h2>"
      ]
    },
    {
      "cell_type": "code",
      "metadata": {
        "id": "8laALOLRDc_b",
        "colab_type": "code",
        "colab": {
          "base_uri": "https://localhost:8080/",
          "height": 442
        },
        "outputId": "55be5e76-c652-4a24-c5fd-140c12eb92f7"
      },
      "source": [
        "dff.isna().sum()"
      ],
      "execution_count": 6,
      "outputs": [
        {
          "output_type": "execute_result",
          "data": {
            "text/plain": [
              "cod_coordenacao_regional                   0\n",
              "coordenacao_regional                       0\n",
              "cod_escola                                 0\n",
              "escola                                     0\n",
              "cod_curso                                  0\n",
              "curso                                      0\n",
              "cod_serie                                  0\n",
              "serie                                      0\n",
              "cod_turno                                  0\n",
              "turno                                      0\n",
              "cod_turma                                896\n",
              "turma                                    896\n",
              "cod_aluno                                  0\n",
              "bimestre                                   0\n",
              "cod_disciplina                             0\n",
              "disciplina                                 0\n",
              "nota_bimestral                        788999\n",
              "aulas_bimestre                       3423972\n",
              "faltas_bimestre                      3423972\n",
              "faltas_justificadas_bimestre         4274032\n",
              "aulas_globalizadas                  11991797\n",
              "faltas_globalizadas                 11990519\n",
              "faltas_justificadas_globalizadas    11991797\n",
              "nota_ajustada                         788999\n",
              "dtype: int64"
            ]
          },
          "metadata": {
            "tags": []
          },
          "execution_count": 6
        }
      ]
    },
    {
      "cell_type": "markdown",
      "metadata": {
        "id": "1vvJ6pNQLtpJ",
        "colab_type": "text"
      },
      "source": [
        "<h2>11. Qual a distribuição de alunos por curso?</h2>"
      ]
    },
    {
      "cell_type": "code",
      "metadata": {
        "id": "jPq7OGgmLxTL",
        "colab_type": "code",
        "colab": {
          "base_uri": "https://localhost:8080/",
          "height": 328
        },
        "outputId": "487cf4c1-ea3c-434c-aafd-2c9e72563bea"
      },
      "source": [
        "dff[['cod_aluno','curso']].groupby(['curso']).count() ### agrupar alunos"
      ],
      "execution_count": 15,
      "outputs": [
        {
          "output_type": "execute_result",
          "data": {
            "text/html": [
              "<div>\n",
              "<style scoped>\n",
              "    .dataframe tbody tr th:only-of-type {\n",
              "        vertical-align: middle;\n",
              "    }\n",
              "\n",
              "    .dataframe tbody tr th {\n",
              "        vertical-align: top;\n",
              "    }\n",
              "\n",
              "    .dataframe thead th {\n",
              "        text-align: right;\n",
              "    }\n",
              "</style>\n",
              "<table border=\"1\" class=\"dataframe\">\n",
              "  <thead>\n",
              "    <tr style=\"text-align: right;\">\n",
              "      <th></th>\n",
              "      <th>cod_aluno</th>\n",
              "    </tr>\n",
              "    <tr>\n",
              "      <th>curso</th>\n",
              "      <th></th>\n",
              "    </tr>\n",
              "  </thead>\n",
              "  <tbody>\n",
              "    <tr>\n",
              "      <th>Educação Infantil</th>\n",
              "      <td>173541</td>\n",
              "    </tr>\n",
              "    <tr>\n",
              "      <th>Educação Infantil -  Especial</th>\n",
              "      <td>593</td>\n",
              "    </tr>\n",
              "    <tr>\n",
              "      <th>Ensino Fundamental Socioeducação</th>\n",
              "      <td>26683</td>\n",
              "    </tr>\n",
              "    <tr>\n",
              "      <th>Ensino Fundamental de 9 Anos</th>\n",
              "      <td>7472175</td>\n",
              "    </tr>\n",
              "    <tr>\n",
              "      <th>Ensino Fundamental de 9 Anos - Especial</th>\n",
              "      <td>6265</td>\n",
              "    </tr>\n",
              "    <tr>\n",
              "      <th>Ensino Médio</th>\n",
              "      <td>5084600</td>\n",
              "    </tr>\n",
              "    <tr>\n",
              "      <th>Ensino Médio - Especial</th>\n",
              "      <td>24</td>\n",
              "    </tr>\n",
              "    <tr>\n",
              "      <th>Ensino Médio - Socioeducação</th>\n",
              "      <td>15203</td>\n",
              "    </tr>\n",
              "  </tbody>\n",
              "</table>\n",
              "</div>"
            ],
            "text/plain": [
              "                                         cod_aluno\n",
              "curso                                             \n",
              "Educação Infantil                           173541\n",
              "Educação Infantil -  Especial                  593\n",
              "Ensino Fundamental Socioeducação             26683\n",
              "Ensino Fundamental de 9 Anos               7472175\n",
              "Ensino Fundamental de 9 Anos - Especial       6265\n",
              "Ensino Médio                               5084600\n",
              "Ensino Médio - Especial                         24\n",
              "Ensino Médio - Socioeducação                 15203"
            ]
          },
          "metadata": {
            "tags": []
          },
          "execution_count": 15
        }
      ]
    }
  ]
}